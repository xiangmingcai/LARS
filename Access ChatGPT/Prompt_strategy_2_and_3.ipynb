{
 "cells": [
  {
   "cell_type": "code",
   "execution_count": 2,
   "id": "21b3ec57",
   "metadata": {},
   "outputs": [],
   "source": [
    "import os\n",
    "import openai\n",
    "import pandas\n",
    "from Bio import Entrez\n",
    "import time\n",
    "import json\n",
    "import ast"
   ]
  },
  {
   "cell_type": "code",
   "execution_count": null,
   "id": "0d164879",
   "metadata": {},
   "outputs": [],
   "source": [
    "#juan\n",
    "%env YOUR_ORG_ID=org-TpGuUg********************\n",
    "\n",
    "%env OPENAI_API_KEY= sk-RDEji********************\n",
    "\n",
    "openai.api_key = \"sk-RDEji********************\"\n",
    "\n",
    "# list models\n",
    "models = openai.Model.list()\n",
    "\n",
    "model_select = \"gpt-3.5-turbo\" #OR gpt-4-0314"
   ]
  },
  {
   "cell_type": "code",
   "execution_count": 3,
   "id": "f1156b99",
   "metadata": {},
   "outputs": [
    {
     "name": "stdout",
     "output_type": "stream",
     "text": [
      "(1360, 5)\n"
     ]
    }
   ],
   "source": [
    "from pandas import read_csv\n",
    "\n",
    "filename = \"address-to-input-csv-file\"\n",
    "\n",
    "data = read_csv(filename)\n",
    "print(data.shape)\n"
   ]
  },
  {
   "cell_type": "code",
   "execution_count": 4,
   "id": "c3a9159f",
   "metadata": {},
   "outputs": [],
   "source": [
    "data['joined_content']=\"NA\"\n",
    "data['Note']=\"NA\"\n",
    "\n",
    "data['Chat_complex_question']=\"NA\"\n",
    "data['token_complex_question']=\"NA\"\n",
    "data['FoundYES_complex_question']=\"NA\"\n",
    "data['FoundNO_complex_question']=\"NA\"\n",
    "data['FoundNOTSURE_complex_question']=\"NA\"\n",
    "data['FoundHOWEVER_complex_question']=\"NA\""
   ]
  },
  {
   "cell_type": "code",
   "execution_count": 5,
   "id": "eb5c9670",
   "metadata": {},
   "outputs": [],
   "source": [
    "outputpath='address-to-output-csv-file'"
   ]
  },
  {
   "cell_type": "code",
   "execution_count": 6,
   "id": "d12b7f2c",
   "metadata": {
    "scrolled": true
   },
   "outputs": [
    {
     "data": {
      "text/plain": [
       "Index(['rand_seed', 'selection', 'id', 'PMID', 'Title', 'joined_content',\n",
       "       'Note', 'Chat_complex_question', 'token_complex_question',\n",
       "       'FoundYES_complex_question', 'FoundNO_complex_question',\n",
       "       'FoundNOTSURE_complex_question', 'FoundHOWEVER_complex_question'],\n",
       "      dtype='object')"
      ]
     },
     "execution_count": 6,
     "metadata": {},
     "output_type": "execute_result"
    }
   ],
   "source": [
    "data.columns"
   ]
  },
  {
   "cell_type": "code",
   "execution_count": 13,
   "id": "c9fe1b7d",
   "metadata": {},
   "outputs": [],
   "source": [
    "na_rows = data[data['FoundHOWEVER_complex_question']=='NA'].index.tolist()"
   ]
  },
  {
   "cell_type": "code",
   "execution_count": 14,
   "id": "a6778c52",
   "metadata": {
    "scrolled": true
   },
   "outputs": [
    {
     "name": "stdout",
     "output_type": "stream",
     "text": [
      "[]\n"
     ]
    }
   ],
   "source": [
    "print(na_rows)"
   ]
  },
  {
   "cell_type": "code",
   "execution_count": null,
   "id": "84018ad3",
   "metadata": {},
   "outputs": [],
   "source": [
    "for i in na_rows:\n",
    "    try:\n",
    "        print(i)\n",
    "        temp_Title=data[\"Title\"][i]\n",
    "        temp_PMID=data[\"PMID\"][i]\n",
    "        #print(temp_PMID)\n",
    "        #print(temp_Title)\n",
    "        # Define the PMID of the article you want to retrieve\n",
    "        pmid = temp_PMID\n",
    "\n",
    "        # Use Entrez.efetch() to retrieve the article summary\n",
    "        pmid_str = str(pmid)\n",
    "\n",
    "\n",
    "        # Extract the article abstract from the record\n",
    "        try:\n",
    "            handle = Entrez.efetch(db='pubmed', id=pmid_str, retmode='xml')\n",
    "            record = Entrez.read(handle)\n",
    "            abstract = record['PubmedArticle'][0]['MedlineCitation']['Article']['Abstract']['AbstractText']\n",
    "        except KeyError:\n",
    "            abstract = 'No abstract found'\n",
    "\n",
    "        temp_Abstract=\" \".join(abstract)\n",
    "\n",
    "        #print(temp_Abstract)\n",
    "        joined_content=''.join([\"Title: \",temp_Title,\". Abstract: \",temp_Abstract])\n",
    "\n",
    "        if len(joined_content) < 3000:\n",
    "            data[\"joined_content\"][i] = joined_content\n",
    "            data[\"Note\"][i] = \"qualified length\"\n",
    "        else:\n",
    "            data[\"joined_content\"][i] = joined_content\n",
    "            data[\"Note\"][i] = \"length is too long\"\n",
    "            joined_content = joined_content[0:3000]\n",
    "\n",
    "        print(joined_content)\n",
    "\n",
    "        #complex_question#\n",
    "        try:\n",
    "            completion = openai.ChatCompletion.create(\n",
    "                model=model_select, \n",
    "                messages=[{\"role\": \"system\", \"content\": \"I want you to act as a helpful assistant. I will give you title and abstract of a publication and you will reply whether it meets all these following criteria or not: (1) studies that use human as primary research subject; (2) studies that involve patients with glioma, glioblastoma, astrocytoma, oligodendroglioma; (3) The title and abstract must explicitly mention that the study involves treatment of patients with one or more of the following immunotherapies: Immune Checkpoint Inhibitors (e.g. anti-PD-1, anti-PD-L1, anti-CTLA-4), Peptide Vaccination, Dendritic cell Vaccination, Adoptive Transfer of Effector Lymphocytes (e.g. CAR-T cell therapy, TCR-engineered T cells), Chimeric Antigen Receptor (CAR) T-cell therapy, or Oncolytic Viral Vectors therapy; (4) studies that was original research instead of reviews, protocol, or case report with less than five patients. Please answer whether it meets all these criteria or not with yes, no, or not sure, and followed with reasons.\"},\n",
    "                          {\"role\": \"user\", \"content\": joined_content}]\n",
    "            )\n",
    "        except KeyError:\n",
    "            completion = 'completion ERROR'\n",
    "        #time.sleep(20)\n",
    "\n",
    "        print(completion)\n",
    "        if completion == 'completion ERROR':\n",
    "            data[\"Chat_complex_question\"][i]='completion ERROR'\n",
    "            data[\"token_complex_question\"][i]=0\n",
    "        else:    \n",
    "            data[\"Chat_complex_question\"][i]=completion.choices[0].message['content']\n",
    "            data[\"token_complex_question\"][i]=completion.usage.total_tokens\n",
    "\n",
    "        if \"yes\" in data[\"Chat_complex_question\"][i][0:3].lower():\n",
    "            data[\"FoundYES_complex_question\"][i]=\"Found\"\n",
    "        else:\n",
    "            data[\"FoundYES_complex_question\"][i]=\"NotFound\"\n",
    "\n",
    "        if \"no.\" in data[\"Chat_complex_question\"][i][0:3].lower():\n",
    "            data[\"FoundNO_complex_question\"][i]=\"Found\"\n",
    "        elif \"no,\" in data[\"Chat_complex_question\"][i][0:3].lower():\n",
    "            data[\"FoundNO_complex_question\"][i]=\"Found\"\n",
    "        else:\n",
    "            data[\"FoundNO_complex_question\"][i]=\"NotFound\"\n",
    "\n",
    "        if \"not sure\" in data[\"Chat_complex_question\"][i][0:10].lower():\n",
    "            data[\"FoundNOTSURE_complex_question\"][i]=\"Found\"\n",
    "        else:\n",
    "            data[\"FoundNOTSURE_complex_question\"][i]=\"NotFound\"\n",
    "\n",
    "        if \"however\" in data[\"Chat_complex_question\"][i].lower():\n",
    "            data[\"FoundHOWEVER_complex_question\"][i]=\"Found\"\n",
    "        else:\n",
    "            data[\"FoundHOWEVER_complex_question\"][i]=\"NotFound\"\n",
    "\n",
    "\n",
    "        data.to_csv(outputpath,sep=',',index=True,header=True)\n",
    "    except:\n",
    "        pass"
   ]
  },
  {
   "cell_type": "code",
   "execution_count": null,
   "id": "a8e5600e",
   "metadata": {},
   "outputs": [],
   "source": []
  },
  {
   "cell_type": "code",
   "execution_count": null,
   "id": "76b96533",
   "metadata": {},
   "outputs": [],
   "source": []
  },
  {
   "cell_type": "code",
   "execution_count": null,
   "id": "b960e176",
   "metadata": {},
   "outputs": [],
   "source": []
  },
  {
   "cell_type": "code",
   "execution_count": null,
   "id": "5e26bdf2",
   "metadata": {},
   "outputs": [],
   "source": []
  }
 ],
 "metadata": {
  "kernelspec": {
   "display_name": "Python 3 (ipykernel)",
   "language": "python",
   "name": "python3"
  },
  "language_info": {
   "codemirror_mode": {
    "name": "ipython",
    "version": 3
   },
   "file_extension": ".py",
   "mimetype": "text/x-python",
   "name": "python",
   "nbconvert_exporter": "python",
   "pygments_lexer": "ipython3",
   "version": "3.9.16"
  }
 },
 "nbformat": 4,
 "nbformat_minor": 5
}
